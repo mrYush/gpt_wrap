{
 "cells": [
  {
   "cell_type": "code",
   "execution_count": 1,
   "id": "ded7b959-29f0-4544-8da5-40dcd12c7d0e",
   "metadata": {},
   "outputs": [],
   "source": [
    "import tiktoken"
   ]
  },
  {
   "cell_type": "code",
   "execution_count": 2,
   "id": "de7aaa29-e1bc-42ba-87da-d5499ccb44c8",
   "metadata": {},
   "outputs": [],
   "source": [
    "encoding = tiktoken.get_encoding(\"cl100k_base\")"
   ]
  },
  {
   "cell_type": "code",
   "execution_count": 3,
   "id": "50ab0aff-39ef-4b05-bbb3-7d164af9b9ec",
   "metadata": {},
   "outputs": [
    {
     "data": {
      "text/plain": [
       "[1830,\n",
       " 15298,\n",
       " 6735,\n",
       " 28114,\n",
       " 33742,\n",
       " 9706,\n",
       " 97334,\n",
       " 5927,\n",
       " 84714,\n",
       " 1532,\n",
       " 15458,\n",
       " 72331,\n",
       " 59921,\n",
       " 28241,\n",
       " 12415,\n",
       " 6850,\n",
       " 38722,\n",
       " 9239,\n",
       " 11047,\n",
       " 15088,\n",
       " 5372,\n",
       " 6856]"
      ]
     },
     "execution_count": 3,
     "metadata": {},
     "output_type": "execute_result"
    }
   ],
   "source": [
    "encoding.encode('текст переводится в специализированный набор токенов')"
   ]
  },
  {
   "cell_type": "code",
   "execution_count": null,
   "id": "6e1b5cf7-0fee-4855-b839-a3b2be946bcf",
   "metadata": {},
   "outputs": [],
   "source": []
  }
 ],
 "metadata": {
  "kernelspec": {
   "display_name": "gpt_wrap",
   "language": "python",
   "name": "gpt_wrap"
  },
  "language_info": {
   "codemirror_mode": {
    "name": "ipython",
    "version": 3
   },
   "file_extension": ".py",
   "mimetype": "text/x-python",
   "name": "python",
   "nbconvert_exporter": "python",
   "pygments_lexer": "ipython3",
   "version": "3.11.3"
  }
 },
 "nbformat": 4,
 "nbformat_minor": 5
}
